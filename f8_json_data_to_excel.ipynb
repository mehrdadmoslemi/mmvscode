{
  "nbformat": 4,
  "nbformat_minor": 0,
  "metadata": {
    "colab": {
      "provenance": [],
      "authorship_tag": "ABX9TyOUPOYqqEhDX+0n6Rce5Fin",
      "include_colab_link": true
    },
    "kernelspec": {
      "name": "python3",
      "display_name": "Python 3"
    },
    "language_info": {
      "name": "python"
    }
  },
  "cells": [
    {
      "cell_type": "markdown",
      "metadata": {
        "id": "view-in-github",
        "colab_type": "text"
      },
      "source": [
        "<a href=\"https://colab.research.google.com/github/mehrdadmoslemi/mmvscode/blob/main/f8_json_data_to_excel.ipynb\" target=\"_parent\"><img src=\"https://colab.research.google.com/assets/colab-badge.svg\" alt=\"Open In Colab\"/></a>"
      ]
    },
    {
      "cell_type": "code",
      "execution_count": null,
      "metadata": {
        "id": "e89SK0bJhDCO"
      },
      "outputs": [],
      "source": [
        "import pandas as pd\n",
        "import openpyxl\n",
        "from openpyxl import Workbook, load_workbook\n",
        "from openpyxl.worksheet.table import Table, TableStyleInfo\n",
        "import json"
      ]
    },
    {
      "cell_type": "code",
      "source": [
        "v_excel_file_test = 'inp_test.xlsx'\n",
        "v_excel_file_path = 'inp_report.xlsx'"
      ],
      "metadata": {
        "id": "YAyNUBbShTRJ"
      },
      "execution_count": null,
      "outputs": []
    },
    {
      "cell_type": "code",
      "source": [
        "# read table of excel sheet data\n",
        "workbook = openpyxl.load_workbook(v_excel_file_test, data_only=True)\n",
        "sheet = workbook['SalesOrders']\n"
      ],
      "metadata": {
        "id": "wvXh-LOKL7pi"
      },
      "execution_count": null,
      "outputs": []
    },
    {
      "cell_type": "code",
      "source": [
        "for tbl in sheet._tables.values():\n",
        "        if tbl.name == 'SalesOrders':\n",
        "            table = tbl\n",
        "            break\n",
        "tbl\n"
      ],
      "metadata": {
        "colab": {
          "base_uri": "https://localhost:8080/"
        },
        "id": "y3347WpoQe63",
        "outputId": "4f62f97a-08c2-4401-8ac0-c354d31b564b"
      },
      "execution_count": null,
      "outputs": [
        {
          "output_type": "execute_result",
          "data": {
            "text/plain": [
              "<openpyxl.worksheet.table.Table object>\n",
              "Parameters:\n",
              "id=1, name='tblOrders', displayName='tblOrders', comment=None, ref='A1:G47', tableType=None, headerRowCount=1, insertRow=None, insertRowShift=None, totalsRowCount=None, totalsRowShown=False, published=None, headerRowDxfId=20, dataDxfId=None, totalsRowDxfId=None, headerRowBorderDxfId=None, tableBorderDxfId=19, totalsRowBorderDxfId=None, headerRowCellStyle=None, dataCellStyle=None, totalsRowCellStyle=None, connectionId=None, autoFilter=<openpyxl.worksheet.filters.AutoFilter object>\n",
              "Parameters:\n",
              "ref='A1:G47', filterColumn=[], sortState=None, sortState=None, tableColumns=[<openpyxl.worksheet.table.TableColumn object>\n",
              "Parameters:\n",
              "id=1, uniqueName=None, name='OrderDate', totalsRowFunction=None, totalsRowLabel=None, queryTableFieldId=None, headerRowDxfId=None, dataDxfId=18, totalsRowDxfId=None, headerRowCellStyle=None, dataCellStyle=None, totalsRowCellStyle=None, calculatedColumnFormula=None, totalsRowFormula=None, xmlColumnPr=None, extLst=None, <openpyxl.worksheet.table.TableColumn object>\n",
              "Parameters:\n",
              "id=2, uniqueName=None, name='Region', totalsRowFunction=None, totalsRowLabel=None, queryTableFieldId=None, headerRowDxfId=None, dataDxfId=17, totalsRowDxfId=None, headerRowCellStyle=None, dataCellStyle=None, totalsRowCellStyle=None, calculatedColumnFormula=None, totalsRowFormula=None, xmlColumnPr=None, extLst=None, <openpyxl.worksheet.table.TableColumn object>\n",
              "Parameters:\n",
              "id=3, uniqueName=None, name='Rep', totalsRowFunction=None, totalsRowLabel=None, queryTableFieldId=None, headerRowDxfId=None, dataDxfId=16, totalsRowDxfId=None, headerRowCellStyle=None, dataCellStyle=None, totalsRowCellStyle=None, calculatedColumnFormula=None, totalsRowFormula=None, xmlColumnPr=None, extLst=None, <openpyxl.worksheet.table.TableColumn object>\n",
              "Parameters:\n",
              "id=4, uniqueName=None, name='Item', totalsRowFunction=None, totalsRowLabel=None, queryTableFieldId=None, headerRowDxfId=None, dataDxfId=15, totalsRowDxfId=None, headerRowCellStyle=None, dataCellStyle=None, totalsRowCellStyle=None, calculatedColumnFormula=None, totalsRowFormula=None, xmlColumnPr=None, extLst=None, <openpyxl.worksheet.table.TableColumn object>\n",
              "Parameters:\n",
              "id=5, uniqueName=None, name='Units', totalsRowFunction=None, totalsRowLabel=None, queryTableFieldId=None, headerRowDxfId=None, dataDxfId=14, totalsRowDxfId=None, headerRowCellStyle=None, dataCellStyle=None, totalsRowCellStyle=None, calculatedColumnFormula=None, totalsRowFormula=None, xmlColumnPr=None, extLst=None, <openpyxl.worksheet.table.TableColumn object>\n",
              "Parameters:\n",
              "id=6, uniqueName=None, name='Unit Cost', totalsRowFunction=None, totalsRowLabel=None, queryTableFieldId=None, headerRowDxfId=None, dataDxfId=13, totalsRowDxfId=None, headerRowCellStyle=None, dataCellStyle='Comma', totalsRowCellStyle=None, calculatedColumnFormula=None, totalsRowFormula=None, xmlColumnPr=None, extLst=None, <openpyxl.worksheet.table.TableColumn object>\n",
              "Parameters:\n",
              "id=7, uniqueName=None, name='Total', totalsRowFunction=None, totalsRowLabel=None, queryTableFieldId=None, headerRowDxfId=None, dataDxfId=12, totalsRowDxfId=None, headerRowCellStyle=None, dataCellStyle='Comma', totalsRowCellStyle=None, calculatedColumnFormula=None, totalsRowFormula=None, xmlColumnPr=None, extLst=None], tableStyleInfo=<openpyxl.worksheet.table.TableStyleInfo object>\n",
              "Parameters:\n",
              "name='TableStyleMedium9', showFirstColumn=False, showLastColumn=False, showRowStripes=True, showColumnStripes=False"
            ]
          },
          "metadata": {},
          "execution_count": 20
        }
      ]
    },
    {
      "cell_type": "code",
      "source": [
        "p_tbl=sheet._tables['tblOrders']\n",
        "# p_tbl.ref\n",
        "p_data1 = []\n",
        "headers = [cell.value for cell in sheet[p_tbl.ref][0]]  # First row of the table range contains headers\n",
        "# headers\n",
        "for row in sheet[p_tbl.ref][1:]:\n",
        "    p_data1.append([cell.value for cell in row])\n",
        "\n",
        "\n",
        "p_data2 = []\n",
        "for row in sheet[p_tbl.ref][1:]:  # Skip the header row\n",
        "    row_data = {}\n",
        "    for header, cell in zip(headers, row):\n",
        "        row_data[header] = cell.value\n",
        "    p_data2.append(row_data)\n",
        "\n",
        "\n",
        "print(type(p_data1),type(p_data1[0]),type(p_data1[1]))\n",
        "print(type(p_data2),type(p_data2[0]),type(p_data2[1]))"
      ],
      "metadata": {
        "colab": {
          "base_uri": "https://localhost:8080/"
        },
        "id": "s5UL1TvqMVP8",
        "outputId": "0efedcaf-132c-42e1-e989-29af8a234dff"
      },
      "execution_count": null,
      "outputs": [
        {
          "output_type": "stream",
          "name": "stdout",
          "text": [
            "<class 'list'>\n",
            "<class 'list'>\n"
          ]
        }
      ]
    },
    {
      "cell_type": "code",
      "source": [
        "print(type(p_data1),type(p_data1[0]),type(p_data1[1][1]))\n",
        "print(type(p_data2),type(p_data2[0]),type(p_data2[1]))\n",
        "print(p_data1[0])\n",
        "print(p_data2[0])\n",
        "print(p_data1[0][0])\n",
        "print(headers[2],p_data2[0][headers[2]])\n"
      ],
      "metadata": {
        "colab": {
          "base_uri": "https://localhost:8080/"
        },
        "id": "5h6pnGu-O1sc",
        "outputId": "86d5b7bb-4b08-4231-d126-a27b2b656626"
      },
      "execution_count": null,
      "outputs": [
        {
          "output_type": "stream",
          "name": "stdout",
          "text": [
            "<class 'list'> <class 'list'> <class 'str'>\n",
            "<class 'list'> <class 'dict'> <class 'dict'>\n",
            "[datetime.datetime(2016, 1, 6, 0, 0), 'East', 'Jones', 'Pencil', 95, 1.99, 189.05]\n",
            "{'OrderDate': datetime.datetime(2016, 1, 6, 0, 0), 'Region': 'East', 'Rep': 'Jones', 'Item': 'Pencil', 'Units': 95, 'Unit Cost': 1.99, 'Total': 189.05}\n",
            "2016-01-06 00:00:00\n",
            "Rep Jones\n"
          ]
        }
      ]
    },
    {
      "cell_type": "code",
      "source": [
        "workbook = openpyxl.load_workbook(v_excel_file_path, data_only=True)"
      ],
      "metadata": {
        "id": "DNKhVLi5hXuL"
      },
      "execution_count": null,
      "outputs": []
    },
    {
      "cell_type": "code",
      "source": [
        "workbook.sheetnames"
      ],
      "metadata": {
        "colab": {
          "base_uri": "https://localhost:8080/"
        },
        "id": "is9nw0v6iCuH",
        "outputId": "58213ad7-1519-48e0-e980-aadcd8646850"
      },
      "execution_count": null,
      "outputs": [
        {
          "output_type": "execute_result",
          "data": {
            "text/plain": [
              "['tblOrdersPivot', 'SalesOrders', 'shOrdersPivot', 'shOrders', 'shpivot']"
            ]
          },
          "metadata": {},
          "execution_count": 42
        }
      ]
    },
    {
      "cell_type": "code",
      "source": [
        "with open('json2excel_map.json', 'r') as fcfg:\n",
        "        json_sh_map = json.load(fcfg)\n"
      ],
      "metadata": {
        "id": "tCeYcH8wNVCn"
      },
      "execution_count": null,
      "outputs": []
    },
    {
      "cell_type": "code",
      "source": [
        "def getJsonData_Sheet_dict(a_jsonFileName):\n",
        "  if 'inp' in json_sh_map.keys():\n",
        "    for p_itm in json_sh_map['inp']:\n",
        "      for p_k, p_v in p_itm.items():\n",
        "        if p_k == 'jsonname':\n",
        "          if p_v == a_jsonFileName:\n",
        "            return p_itm\n",
        "\n",
        "  return {\"error\":\"not found\"}"
      ],
      "metadata": {
        "id": "Hg5Zw8rZBw-W"
      },
      "execution_count": null,
      "outputs": []
    },
    {
      "cell_type": "code",
      "source": [
        "p_json_data_file='orders_data.json'\n",
        "p_cfg= getJsonData_Sheet_dict(p_json_data_file)\n",
        "if 'error' in p_cfg.keys():\n",
        "  print(p_cfg['error'])\n",
        "else:\n",
        "  print(p_cfg)\n",
        "\n",
        "with open(p_json_data_file, 'r') as fr:\n",
        "        p_data = json.load(fr)\n",
        "\n",
        "p_range_head=p_cfg['range_head']\n",
        "sheet=workbook[p_cfg['sheet']]\n",
        "p_head_col_names=sheet[p_range_head]\n",
        "p_heads=[x.value for x in p_head_col_names[0]]\n",
        "# print(p_heads)\n",
        "# p_heads.index('Rep')\n",
        "\n",
        "p_colsABC='ABCDEFGHIGKLMNOPQRSTUVWXYZ'\n",
        "# p_colsABC[p_heads.index('Rep')]\n",
        "p_rowno=1\n",
        "for p_rowData in p_data:\n",
        "  p_rowno+=1\n",
        "  for p_colK, p_colV in p_rowData.items():\n",
        "    sheet[p_colsABC[p_heads.index(p_colK)]+str(p_rowno)].value=p_colV\n",
        "\n",
        "\n",
        "if p_cfg['pivot_sheet']!='':\n",
        "  p_pivot_sheet=workbook[p_cfg['pivot_sheet']]\n",
        "  p_pivot= p_pivot_sheet._pivots[0]\n",
        "  p_pivot_sheet._pivots.ref=\"\"\n",
        "\n",
        "workbook.save(v_excel_file_path)\n",
        "\n",
        "# p_colsN='ABCDEFGHIGKLMNOPQRSTUVWXYZ'\n",
        "# p_range='A1:'+ p_colsN[sheet.max_column-1] + str(sheet.max_row)\n",
        "# print(p_range)\n",
        "# sheet['H1'].value='TestCol'\n",
        "# p_tbl= [ [itm.value for itm in x]  for x in  sheet[p_range]]\n",
        "# # print(p_tbl)\n",
        "\n",
        "# for r in p_tbl:\n",
        "#   print(r)"
      ],
      "metadata": {
        "colab": {
          "base_uri": "https://localhost:8080/"
        },
        "id": "bJY4IuPcFGwX",
        "outputId": "0398c48a-3b25-476f-faf2-1ca73ea64e07"
      },
      "execution_count": null,
      "outputs": [
        {
          "output_type": "stream",
          "name": "stdout",
          "text": [
            "{'jsonname': 'orders_data.json', 'sheet': 'shOrders', 'range_head': 'A1:G1', 'insert_rows': 'False', 'pivot_name': 'pvOrders', 'pivot_sheet': 'shOrdersPivot', 'pivot_range_head': 'B2:F2'}\n"
          ]
        }
      ]
    },
    {
      "cell_type": "code",
      "source": [
        "\n",
        "\n",
        "\n",
        "for k,v in json_sh_map.items():\n",
        "  if(k.lower=='out'):\n",
        "    for p_k,p_v in v.items():\n",
        "      print(p_k,p_v)\n",
        "  if(k.lower=='inp'):\n",
        "    print(k,v)"
      ],
      "metadata": {
        "id": "uri_TvcL_znz"
      },
      "execution_count": null,
      "outputs": []
    },
    {
      "cell_type": "code",
      "source": [
        "# type(data[0])\n",
        "# print (data[0])\n",
        "sh2=workbook['sh2']\n",
        "p_rowno=0\n",
        "for p_row in data:\n",
        "  p_rowno+=1\n",
        "  p_colno=0\n",
        "  for p_col in p_row:\n",
        "    p_colno+=1\n",
        "    sh2.cell(row=p_rowno, column=p_colno).value=p_row[p_col]\n",
        "\n",
        "workbook.save(v_excel_file_path)"
      ],
      "metadata": {
        "id": "Bz_A1k4v9fRc"
      },
      "execution_count": null,
      "outputs": []
    },
    {
      "cell_type": "code",
      "source": [
        "sheet = workbook['SalesOrders']\n",
        "# sheet = workbook['sh1']\n",
        "table = sheet.tables['tblOrders']\n",
        "table.ref\n",
        "# table.clear()\n",
        "# print(table.ref)"
      ],
      "metadata": {
        "colab": {
          "base_uri": "https://localhost:8080/",
          "height": 36
        },
        "id": "H4t3Ty4lhkVT",
        "outputId": "b6390300-0fd6-4775-ddf7-332f709f6019"
      },
      "execution_count": null,
      "outputs": [
        {
          "output_type": "execute_result",
          "data": {
            "text/plain": [
              "'A1:G47'"
            ],
            "application/vnd.google.colaboratory.intrinsic+json": {
              "type": "string"
            }
          },
          "metadata": {},
          "execution_count": 39
        }
      ]
    },
    {
      "cell_type": "code",
      "source": [
        "for p_k in sheet.tables:\n",
        "  print(type(p_k))\n",
        "  print(p_k)"
      ],
      "metadata": {
        "colab": {
          "base_uri": "https://localhost:8080/"
        },
        "id": "ioc_wp0thtmv",
        "outputId": "3f139c4e-aa76-4962-8347-200609dc0bbe"
      },
      "execution_count": null,
      "outputs": [
        {
          "output_type": "stream",
          "name": "stdout",
          "text": [
            "<class 'str'>\n",
            "tblOrders\n"
          ]
        }
      ]
    },
    {
      "cell_type": "code",
      "source": [
        "# Accessing properties\n",
        "print(f\"Title: {sheet.title}\")\n",
        "print(f\"Max row: {sheet.max_row}\")\n",
        "print(f\"Max column: {sheet.max_column}\")\n",
        "\n",
        "# Accessing cell data\n",
        "print(f\"Value in A1: {sheet['A1'].value}\")\n",
        "print(f\"Value in B2: {sheet.cell(row=2, column=2).value}\")\n",
        "print(f\"Value in A1: {sheet['B1:B5']}\")"
      ],
      "metadata": {
        "colab": {
          "base_uri": "https://localhost:8080/"
        },
        "id": "R-ffFhqtincr",
        "outputId": "12e20174-016d-4222-8a43-50136d15ce4b"
      },
      "execution_count": null,
      "outputs": [
        {
          "output_type": "stream",
          "name": "stdout",
          "text": [
            "Title: sh1\n",
            "Max row: 44\n",
            "Max column: 7\n",
            "Value in A1: OrderDate\n",
            "Value in B2: East\n",
            "Value in A1: ((<Cell 'sh1'.B1>,), (<Cell 'sh1'.B2>,), (<Cell 'sh1'.B3>,), (<Cell 'sh1'.B4>,), (<Cell 'sh1'.B5>,))\n"
          ]
        }
      ]
    },
    {
      "cell_type": "code",
      "source": [
        "for row in sheet.iter_rows(min_row=1, max_col=7, max_row=sheet.max_row):\n",
        "    for cell in row:\n",
        "        print(cell.value, end=\" \")\n",
        "    print()\n"
      ],
      "metadata": {
        "id": "7mZE5sThJVo9"
      },
      "execution_count": null,
      "outputs": []
    },
    {
      "cell_type": "code",
      "source": [
        "[x[0].value for x in  sheet['B1:B5']]"
      ],
      "metadata": {
        "colab": {
          "base_uri": "https://localhost:8080/"
        },
        "id": "X2iu3bkQldFk",
        "outputId": "ba08b9a8-c9cd-4e0e-fecd-0fb7812c22aa"
      },
      "execution_count": null,
      "outputs": [
        {
          "output_type": "execute_result",
          "data": {
            "text/plain": [
              "['Region', 'East', 'Central', 'Central', 'Central']"
            ]
          },
          "metadata": {},
          "execution_count": 8
        }
      ]
    },
    {
      "cell_type": "code",
      "source": [
        "p_colsN='ABCDEFGHIGKLMNOPQRSTUVWXYZ'\n",
        "p_range='A1:'+ p_colsN[sheet.max_column-1] + str(sheet.max_row)\n",
        "print(p_range)\n",
        "sheet['H1'].value='TestCol'\n",
        "p_tbl= [ [itm.value for itm in x]  for x in  sheet[p_range]]\n",
        "# print(p_tbl)\n",
        "\n",
        "for r in p_tbl:\n",
        "  print(r)\n"
      ],
      "metadata": {
        "id": "JVo6Y4WwmNo3"
      },
      "execution_count": null,
      "outputs": []
    },
    {
      "cell_type": "code",
      "source": [],
      "metadata": {
        "id": "8Vuw2YqS_Ujv"
      },
      "execution_count": null,
      "outputs": []
    }
  ]
}